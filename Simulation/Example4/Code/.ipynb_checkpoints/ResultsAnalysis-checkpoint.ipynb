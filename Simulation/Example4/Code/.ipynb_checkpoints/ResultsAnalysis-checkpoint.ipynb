{
 "cells": [
  {
   "cell_type": "code",
   "execution_count": 2,
   "metadata": {
    "pycharm": {
     "name": "#%%\n"
    }
   },
   "outputs": [],
   "source": [
    "import os \n",
    "import pandas as pd"
   ]
  },
  {
   "cell_type": "code",
   "execution_count": 3,
   "metadata": {
    "pycharm": {
     "name": "#%%\n"
    }
   },
   "outputs": [],
   "source": [
    "%matplotlib inline"
   ]
  },
  {
   "cell_type": "markdown",
   "metadata": {
    "pycharm": {
     "name": "#%% md\n"
    }
   },
   "source": [
    "# d=30"
   ]
  },
  {
   "cell_type": "code",
   "execution_count": 4,
   "metadata": {
    "pycharm": {
     "name": "#%%\n"
    }
   },
   "outputs": [],
   "source": [
    "container = []\n",
    "for i in range(1,100):\n",
    "    tmp = pd.read_csv(\"../Intermediate/Dim30Trial\" + str(i) + \".csv\")\n",
    "    scores = [((678-(tmp['screen'].rank()))[:30] < 30).mean(),((678-(tmp['screen.1'].rank()))[:30] < 30).mean(),\n",
    "             ((678-(tmp['screen.2'].rank()))[:30] < 30).mean(),((678-(tmp['screen.3'].rank()))[:30] < 30).mean(),\n",
    "             ((678-(tmp['screen.4'].rank()))[:30] < 30).mean(),((678-(tmp['screen.5'].rank()))[:30] < 30).mean(),\n",
    "             ((678-(tmp['screen.6'].rank()))[:30] < 30).mean(),((678-(tmp['screen.7'].rank()))[:30] < 30).mean(),\n",
    "             ((678-(tmp['screen.8'].rank()))[:30] < 30).mean(),((678-(tmp['screen.9'].rank()))[:30] < 30).mean(),]\n",
    "    container.append(scores)       \n",
    "d30 = pd.DataFrame(container).mean()"
   ]
  },
  {
   "cell_type": "code",
   "execution_count": 7,
   "metadata": {},
   "outputs": [],
   "source": [
    "d30.index = [\"ADD-SIS\",\"KF-M1\",\"DCSIS-M1\",\"MVSIS-M1\",\n",
    "            \"KF-M2\",\"DCSIS-M2\",\"MVSIS-M2\",\n",
    "            \"KF-M3\",\"DCSIS-M3\",\"MVSIS-M3\",]"
   ]
  },
  {
   "cell_type": "code",
   "execution_count": 8,
   "metadata": {},
   "outputs": [
    {
     "data": {
      "text/plain": [
       "ADD-SIS     0.694949\n",
       "KF-M1       0.672727\n",
       "DCSIS-M1    0.202357\n",
       "MVSIS-M1    0.198316\n",
       "KF-M2       0.673737\n",
       "DCSIS-M2    0.201684\n",
       "MVSIS-M2    0.197643\n",
       "KF-M3       0.669024\n",
       "DCSIS-M3    0.201684\n",
       "MVSIS-M3    0.197306\n",
       "dtype: float64"
      ]
     },
     "execution_count": 8,
     "metadata": {},
     "output_type": "execute_result"
    }
   ],
   "source": [
    "d30"
   ]
  },
  {
   "cell_type": "code",
   "execution_count": null,
   "metadata": {},
   "outputs": [],
   "source": []
  },
  {
   "cell_type": "code",
   "execution_count": null,
   "metadata": {},
   "outputs": [],
   "source": []
  },
  {
   "cell_type": "markdown",
   "metadata": {
    "pycharm": {
     "name": "#%% md\n"
    }
   },
   "source": [
    "# d= 60"
   ]
  },
  {
   "cell_type": "code",
   "execution_count": 9,
   "metadata": {
    "pycharm": {
     "name": "#%%\n"
    }
   },
   "outputs": [],
   "source": [
    "container = []\n",
    "for i in range(1,100):\n",
    "    try:\n",
    "        tmp = pd.read_csv(\"../Intermediate/Dim60Trial\" + str(i) + \".csv\")\n",
    "        scores = [((678-(tmp['screen'].rank()))[:60] < 60).mean(),((678-(tmp['screen.1'].rank()))[:60] < 60).mean(),\n",
    "             ((678-(tmp['screen.2'].rank()))[:60] < 60).mean(),((678-(tmp['screen.3'].rank()))[:60] < 60).mean(),\n",
    "             ((678-(tmp['screen.4'].rank()))[:60] < 60).mean(),((678-(tmp['screen.5'].rank()))[:60] < 60).mean(),\n",
    "             ((678-(tmp['screen.6'].rank()))[:60] < 60).mean(),((678-(tmp['screen.7'].rank()))[:60] < 60).mean(),\n",
    "             ((678-(tmp['screen.8'].rank()))[:60] < 60).mean(),((678-(tmp['screen.9'].rank()))[:60] < 60).mean(),]\n",
    "        container.append(scores)        \n",
    "    except:\n",
    "        pass\n",
    "d60 = pd.DataFrame(container).mean()"
   ]
  },
  {
   "cell_type": "code",
   "execution_count": 10,
   "metadata": {},
   "outputs": [],
   "source": [
    "d60.index = [\"ADD-SIS\",\"KF-M1\",\"DCSIS-M1\",\"MVSIS-M1\",\n",
    "            \"KF-M2\",\"DCSIS-M2\",\"MVSIS-M2\",\n",
    "            \"KF-M3\",\"DCSIS-M3\",\"MVSIS-M3\",]"
   ]
  },
  {
   "cell_type": "code",
   "execution_count": 11,
   "metadata": {},
   "outputs": [
    {
     "data": {
      "text/plain": [
       "ADD-SIS     0.770578\n",
       "KF-M1       0.756463\n",
       "DCSIS-M1    0.256633\n",
       "MVSIS-M1    0.236735\n",
       "KF-M2       0.758163\n",
       "DCSIS-M2    0.255952\n",
       "MVSIS-M2    0.237415\n",
       "KF-M3       0.757993\n",
       "DCSIS-M3    0.256633\n",
       "MVSIS-M3    0.236395\n",
       "dtype: float64"
      ]
     },
     "execution_count": 11,
     "metadata": {},
     "output_type": "execute_result"
    }
   ],
   "source": [
    "d60"
   ]
  },
  {
   "cell_type": "code",
   "execution_count": null,
   "metadata": {},
   "outputs": [],
   "source": []
  },
  {
   "cell_type": "markdown",
   "metadata": {
    "pycharm": {
     "name": "#%% md\n"
    }
   },
   "source": [
    "# d= 120"
   ]
  },
  {
   "cell_type": "code",
   "execution_count": 13,
   "metadata": {
    "pycharm": {
     "name": "#%%\n"
    }
   },
   "outputs": [],
   "source": [
    "container = []\n",
    "for i in range(1,100):\n",
    "    tmp = pd.read_csv(\"../Intermediate/Dim120Trial\" + str(i) + \".csv\")\n",
    "    scores = [((678-(tmp['screen'].rank()))[:120] < 120).mean(),((678-(tmp['screen.1'].rank()))[:120] < 120).mean(),\n",
    "             ((678-(tmp['screen.2'].rank()))[:120] < 120).mean(),((678-(tmp['screen.3'].rank()))[:120] < 120).mean(),\n",
    "             ((678-(tmp['screen.4'].rank()))[:120] < 120).mean(),((678-(tmp['screen.5'].rank()))[:120] < 120).mean(),\n",
    "             ((678-(tmp['screen.6'].rank()))[:120] < 120).mean(),((678-(tmp['screen.7'].rank()))[:120] < 120).mean(),\n",
    "             ((678-(tmp['screen.8'].rank()))[:120] < 120).mean(),((678-(tmp['screen.9'].rank()))[:120] < 120).mean(),]\n",
    "    container.append(scores)      \n",
    "d120 = pd.DataFrame(container).mean()"
   ]
  },
  {
   "cell_type": "code",
   "execution_count": 14,
   "metadata": {
    "pycharm": {
     "name": "#%%\n"
    }
   },
   "outputs": [],
   "source": [
    "d120.index = [\"ADD-SIS\",\"KF-M1\",\"DCSIS-M1\",\"MVSIS-M1\",\n",
    "            \"KF-M2\",\"DCSIS-M2\",\"MVSIS-M2\",\n",
    "            \"KF-M3\",\"DCSIS-M3\",\"MVSIS-M3\",]"
   ]
  },
  {
   "cell_type": "code",
   "execution_count": 15,
   "metadata": {},
   "outputs": [
    {
     "data": {
      "text/plain": [
       "ADD-SIS     0.747475\n",
       "KF-M1       0.699158\n",
       "DCSIS-M1    0.424579\n",
       "MVSIS-M1    0.404209\n",
       "KF-M2       0.699495\n",
       "DCSIS-M2    0.423990\n",
       "MVSIS-M2    0.403704\n",
       "KF-M3       0.698485\n",
       "DCSIS-M3    0.425084\n",
       "MVSIS-M3    0.404461\n",
       "dtype: float64"
      ]
     },
     "execution_count": 15,
     "metadata": {},
     "output_type": "execute_result"
    }
   ],
   "source": [
    "d120"
   ]
  },
  {
   "cell_type": "code",
   "execution_count": null,
   "metadata": {},
   "outputs": [],
   "source": []
  }
 ],
 "metadata": {
  "kernelspec": {
   "display_name": "Python 3",
   "language": "python",
   "name": "python3"
  },
  "language_info": {
   "codemirror_mode": {
    "name": "ipython",
    "version": 3
   },
   "file_extension": ".py",
   "mimetype": "text/x-python",
   "name": "python",
   "nbconvert_exporter": "python",
   "pygments_lexer": "ipython3",
   "version": "3.7.4"
  }
 },
 "nbformat": 4,
 "nbformat_minor": 2
}
